{
 "cells": [
  {
   "cell_type": "markdown",
   "id": "79e79539",
   "metadata": {},
   "source": [
    "# Step 5 - Comparison, Conclusion, and Recommendation"
   ]
  },
  {
   "cell_type": "markdown",
   "id": "4368281d",
   "metadata": {},
   "source": [
    "# * Comparison\n",
    "___\n",
    "___\n",
    "## From Base Model to Our Improved Models\n",
    "___\n",
    "It is clear that our model outperforms our baseline model's R2 score against 55% on the initial base test data. This thus addresses our problem of not having a proper algorithm to classify incoming posts from patients based on the worded text. Our model has a higher level of accuracy in classifying incoming patient's posts with our machine learning model."
   ]
  },
  {
   "cell_type": "markdown",
   "id": "aaad16ce",
   "metadata": {},
   "source": [
    "# * Conclusion\n",
    "___\n",
    "___\n",
    "After doing the initial study, we have gained a significant insight on the problems for both sides of the subreddit authors. We can say that each group show an interest on wanting to get help as they personally realise that they do have an addiction.  As the first step is to seek help, we think that our tool will be able to assist and guide them as well as th non-profit group to the right direction.  By connection the seekers as well as the receivers together online or in person safely, it will be a great stepping stone to the right direction.\n",
    "\n",
    "\n",
    "\n",
    "\n",
    "# * Recommendation for the Future\n",
    "___\n",
    "___\n",
    "As this is the beginning stage of our study, we can already say that our tool shows quite a promise as the initial removal of \"common\" English words we deemed not having an impact and a good indicator shows an improvement compare to using default set of \"common\" English words.  To be able to provide better identify the posts, we will continue to add new post/threads to our machine and see what further actions we will have to do to further improve the system.  \n",
    "\n",
    "Ideas we have as of now is to continue to add more Stopwords to the current list of most common English words used to improve the efficiency (As you can see the difference from Step 4.1 and 4.2). Another is to diverge out from Reddit website and dive into other social media platform that may also use those as a reach out for help.  Find tuning our model will also be continue in the future as those can definitely play a factor to the end scores.\n",
    "\n",
    "We also believe that we can also further tune our tool by implement them to many different platforms. Online and apps are the initial stages where we can allow the end user to key in their story and the system will provide recommendations to their nearby facilities or out-reach programs they can get in contact.  "
   ]
  }
 ],
 "metadata": {
  "kernelspec": {
   "display_name": "Python 3",
   "language": "python",
   "name": "python3"
  },
  "language_info": {
   "codemirror_mode": {
    "name": "ipython",
    "version": 3
   },
   "file_extension": ".py",
   "mimetype": "text/x-python",
   "name": "python",
   "nbconvert_exporter": "python",
   "pygments_lexer": "ipython3",
   "version": "3.8.8"
  }
 },
 "nbformat": 4,
 "nbformat_minor": 5
}
