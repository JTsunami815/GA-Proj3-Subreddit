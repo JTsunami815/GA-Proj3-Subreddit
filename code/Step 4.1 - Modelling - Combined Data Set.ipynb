{
 "cells": [
  {
   "cell_type": "markdown",
   "id": "c6fd172b",
   "metadata": {},
   "source": [
    "# Naive Bayes & KNN - For Combined Data Set\n",
    "___"
   ]
  },
  {
   "cell_type": "markdown",
   "id": "5f4ee216",
   "metadata": {},
   "source": [
    "## Import Libraries\n",
    "___"
   ]
  },
  {
   "cell_type": "code",
   "execution_count": 211,
   "id": "6547067c",
   "metadata": {},
   "outputs": [],
   "source": [
    "#import libraries\n",
    "import numpy as np\n",
    "import pandas as pd\n",
    "import sklearn\n",
    "import matplotlib.pyplot as plt\n",
    "import seaborn as sns\n",
    "\n",
    "#setup from sklearn\n",
    "from sklearn.model_selection import train_test_split\n",
    "from sklearn import metrics\n",
    "from sklearn.metrics import accuracy_score\n",
    "from sklearn.model_selection import GridSearchCV\n",
    "from sklearn.metrics import confusion_matrix, plot_confusion_matrix, accuracy_score, plot_roc_curve, \\\n",
    "roc_auc_score, recall_score, precision_score, f1_score\n",
    "from sklearn.metrics import classification_report\n",
    "from sklearn.preprocessing import Binarizer\n",
    "from sklearn.naive_bayes import BernoulliNB\n",
    "from sklearn.naive_bayes import GaussianNB\n",
    "from sklearn.naive_bayes import MultinomialNB\n",
    "\n",
    "#allow visual graphs to be plotted within notebook\n",
    "%matplotlib inline"
   ]
  },
  {
   "cell_type": "markdown",
   "id": "9c8bac1b",
   "metadata": {},
   "source": [
    "## Load in Combined Data File"
   ]
  },
  {
   "cell_type": "code",
   "execution_count": 212,
   "id": "ce5bd784",
   "metadata": {
    "scrolled": true
   },
   "outputs": [
    {
     "data": {
      "text/html": [
       "<div><div id=99314ce0-a30d-46a6-bc47-fd1c4861d560 style=\"display:none; background-color:#9D6CFF; color:white; width:200px; height:30px; padding-left:5px; border-radius:4px; flex-direction:row; justify-content:space-around; align-items:center;\" onmouseover=\"this.style.backgroundColor='#BA9BF8'\" onmouseout=\"this.style.backgroundColor='#9D6CFF'\" onclick=\"window.commands?.execute('create-mitosheet-from-dataframe-output');\">See Full Dataframe in Mito</div> <script> if (window.commands.hasCommand('create-mitosheet-from-dataframe-output')) document.getElementById('99314ce0-a30d-46a6-bc47-fd1c4861d560').style.display = 'flex' </script> <table border=\"1\" class=\"dataframe\">\n",
       "  <thead>\n",
       "    <tr style=\"text-align: right;\">\n",
       "      <th></th>\n",
       "      <th>0</th>\n",
       "      <th>1</th>\n",
       "      <th>2</th>\n",
       "      <th>3</th>\n",
       "      <th>4</th>\n",
       "      <th>5</th>\n",
       "      <th>6</th>\n",
       "      <th>7</th>\n",
       "      <th>8</th>\n",
       "      <th>9</th>\n",
       "      <th>...</th>\n",
       "      <th>991</th>\n",
       "      <th>992</th>\n",
       "      <th>993</th>\n",
       "      <th>994</th>\n",
       "      <th>995</th>\n",
       "      <th>996</th>\n",
       "      <th>997</th>\n",
       "      <th>998</th>\n",
       "      <th>999</th>\n",
       "      <th>1000</th>\n",
       "    </tr>\n",
       "  </thead>\n",
       "  <tbody>\n",
       "    <tr>\n",
       "      <th>0</th>\n",
       "      <td>0</td>\n",
       "      <td>0</td>\n",
       "      <td>0</td>\n",
       "      <td>0</td>\n",
       "      <td>0</td>\n",
       "      <td>0</td>\n",
       "      <td>0</td>\n",
       "      <td>0</td>\n",
       "      <td>0</td>\n",
       "      <td>0</td>\n",
       "      <td>...</td>\n",
       "      <td>0</td>\n",
       "      <td>0</td>\n",
       "      <td>1</td>\n",
       "      <td>0</td>\n",
       "      <td>0</td>\n",
       "      <td>0</td>\n",
       "      <td>0</td>\n",
       "      <td>0</td>\n",
       "      <td>0</td>\n",
       "      <td>1</td>\n",
       "    </tr>\n",
       "    <tr>\n",
       "      <th>1</th>\n",
       "      <td>0</td>\n",
       "      <td>0</td>\n",
       "      <td>0</td>\n",
       "      <td>0</td>\n",
       "      <td>0</td>\n",
       "      <td>0</td>\n",
       "      <td>0</td>\n",
       "      <td>0</td>\n",
       "      <td>0</td>\n",
       "      <td>0</td>\n",
       "      <td>...</td>\n",
       "      <td>0</td>\n",
       "      <td>0</td>\n",
       "      <td>0</td>\n",
       "      <td>0</td>\n",
       "      <td>0</td>\n",
       "      <td>0</td>\n",
       "      <td>0</td>\n",
       "      <td>0</td>\n",
       "      <td>0</td>\n",
       "      <td>1</td>\n",
       "    </tr>\n",
       "    <tr>\n",
       "      <th>2</th>\n",
       "      <td>0</td>\n",
       "      <td>0</td>\n",
       "      <td>0</td>\n",
       "      <td>0</td>\n",
       "      <td>0</td>\n",
       "      <td>0</td>\n",
       "      <td>0</td>\n",
       "      <td>0</td>\n",
       "      <td>0</td>\n",
       "      <td>0</td>\n",
       "      <td>...</td>\n",
       "      <td>0</td>\n",
       "      <td>0</td>\n",
       "      <td>0</td>\n",
       "      <td>0</td>\n",
       "      <td>0</td>\n",
       "      <td>0</td>\n",
       "      <td>0</td>\n",
       "      <td>0</td>\n",
       "      <td>0</td>\n",
       "      <td>1</td>\n",
       "    </tr>\n",
       "    <tr>\n",
       "      <th>3</th>\n",
       "      <td>0</td>\n",
       "      <td>0</td>\n",
       "      <td>0</td>\n",
       "      <td>0</td>\n",
       "      <td>0</td>\n",
       "      <td>0</td>\n",
       "      <td>0</td>\n",
       "      <td>0</td>\n",
       "      <td>0</td>\n",
       "      <td>0</td>\n",
       "      <td>...</td>\n",
       "      <td>0</td>\n",
       "      <td>0</td>\n",
       "      <td>0</td>\n",
       "      <td>0</td>\n",
       "      <td>0</td>\n",
       "      <td>0</td>\n",
       "      <td>0</td>\n",
       "      <td>0</td>\n",
       "      <td>0</td>\n",
       "      <td>1</td>\n",
       "    </tr>\n",
       "    <tr>\n",
       "      <th>4</th>\n",
       "      <td>0</td>\n",
       "      <td>0</td>\n",
       "      <td>0</td>\n",
       "      <td>0</td>\n",
       "      <td>0</td>\n",
       "      <td>0</td>\n",
       "      <td>0</td>\n",
       "      <td>0</td>\n",
       "      <td>0</td>\n",
       "      <td>0</td>\n",
       "      <td>...</td>\n",
       "      <td>0</td>\n",
       "      <td>0</td>\n",
       "      <td>0</td>\n",
       "      <td>0</td>\n",
       "      <td>0</td>\n",
       "      <td>0</td>\n",
       "      <td>0</td>\n",
       "      <td>0</td>\n",
       "      <td>0</td>\n",
       "      <td>1</td>\n",
       "    </tr>\n",
       "  </tbody>\n",
       "</table></div>"
      ],
      "text/plain": [
       "   0     1     2     3     4     5     6     7     8     9     ...  991   \\\n",
       "0     0     0     0     0     0     0     0     0     0     0  ...     0   \n",
       "1     0     0     0     0     0     0     0     0     0     0  ...     0   \n",
       "2     0     0     0     0     0     0     0     0     0     0  ...     0   \n",
       "3     0     0     0     0     0     0     0     0     0     0  ...     0   \n",
       "4     0     0     0     0     0     0     0     0     0     0  ...     0   \n",
       "\n",
       "   992   993   994   995   996   997   998   999   1000  \n",
       "0     0     1     0     0     0     0     0     0     1  \n",
       "1     0     0     0     0     0     0     0     0     1  \n",
       "2     0     0     0     0     0     0     0     0     1  \n",
       "3     0     0     0     0     0     0     0     0     1  \n",
       "4     0     0     0     0     0     0     0     0     1  \n",
       "\n",
       "[5 rows x 1001 columns]"
      ]
     },
     "execution_count": 212,
     "metadata": {},
     "output_type": "execute_result"
    }
   ],
   "source": [
    "\n",
    "combined_data = pd.read_csv('../data/Combined_DF_for_Naive_Bayes.csv', header=None)\n",
    "\n",
    "combined_data.head() "
   ]
  },
  {
   "cell_type": "code",
   "execution_count": 213,
   "id": "bfc99b54",
   "metadata": {},
   "outputs": [
    {
     "data": {
      "text/html": [
       "<div><div id=52a41c5f-1426-4d13-9936-7685abf95b61 style=\"display:none; background-color:#9D6CFF; color:white; width:200px; height:30px; padding-left:5px; border-radius:4px; flex-direction:row; justify-content:space-around; align-items:center;\" onmouseover=\"this.style.backgroundColor='#BA9BF8'\" onmouseout=\"this.style.backgroundColor='#9D6CFF'\" onclick=\"window.commands?.execute('create-mitosheet-from-dataframe-output');\">See Full Dataframe in Mito</div> <script> if (window.commands.hasCommand('create-mitosheet-from-dataframe-output')) document.getElementById('52a41c5f-1426-4d13-9936-7685abf95b61').style.display = 'flex' </script> <table border=\"1\" class=\"dataframe\">\n",
       "  <thead>\n",
       "    <tr style=\"text-align: right;\">\n",
       "      <th></th>\n",
       "      <th>0</th>\n",
       "      <th>1</th>\n",
       "      <th>2</th>\n",
       "      <th>3</th>\n",
       "      <th>4</th>\n",
       "      <th>5</th>\n",
       "      <th>6</th>\n",
       "      <th>7</th>\n",
       "      <th>8</th>\n",
       "      <th>9</th>\n",
       "      <th>...</th>\n",
       "      <th>991</th>\n",
       "      <th>992</th>\n",
       "      <th>993</th>\n",
       "      <th>994</th>\n",
       "      <th>995</th>\n",
       "      <th>996</th>\n",
       "      <th>997</th>\n",
       "      <th>998</th>\n",
       "      <th>999</th>\n",
       "      <th>1000</th>\n",
       "    </tr>\n",
       "  </thead>\n",
       "  <tbody>\n",
       "    <tr>\n",
       "      <th>1444</th>\n",
       "      <td>0</td>\n",
       "      <td>0</td>\n",
       "      <td>0</td>\n",
       "      <td>0</td>\n",
       "      <td>0</td>\n",
       "      <td>0</td>\n",
       "      <td>0</td>\n",
       "      <td>0</td>\n",
       "      <td>0</td>\n",
       "      <td>0</td>\n",
       "      <td>...</td>\n",
       "      <td>0</td>\n",
       "      <td>0</td>\n",
       "      <td>0</td>\n",
       "      <td>0</td>\n",
       "      <td>0</td>\n",
       "      <td>0</td>\n",
       "      <td>0</td>\n",
       "      <td>0</td>\n",
       "      <td>0</td>\n",
       "      <td>0</td>\n",
       "    </tr>\n",
       "    <tr>\n",
       "      <th>1445</th>\n",
       "      <td>0</td>\n",
       "      <td>0</td>\n",
       "      <td>0</td>\n",
       "      <td>0</td>\n",
       "      <td>0</td>\n",
       "      <td>0</td>\n",
       "      <td>0</td>\n",
       "      <td>0</td>\n",
       "      <td>0</td>\n",
       "      <td>0</td>\n",
       "      <td>...</td>\n",
       "      <td>0</td>\n",
       "      <td>0</td>\n",
       "      <td>0</td>\n",
       "      <td>0</td>\n",
       "      <td>0</td>\n",
       "      <td>0</td>\n",
       "      <td>0</td>\n",
       "      <td>0</td>\n",
       "      <td>0</td>\n",
       "      <td>0</td>\n",
       "    </tr>\n",
       "    <tr>\n",
       "      <th>1446</th>\n",
       "      <td>0</td>\n",
       "      <td>0</td>\n",
       "      <td>0</td>\n",
       "      <td>0</td>\n",
       "      <td>0</td>\n",
       "      <td>0</td>\n",
       "      <td>0</td>\n",
       "      <td>0</td>\n",
       "      <td>0</td>\n",
       "      <td>0</td>\n",
       "      <td>...</td>\n",
       "      <td>0</td>\n",
       "      <td>0</td>\n",
       "      <td>0</td>\n",
       "      <td>0</td>\n",
       "      <td>0</td>\n",
       "      <td>0</td>\n",
       "      <td>0</td>\n",
       "      <td>0</td>\n",
       "      <td>0</td>\n",
       "      <td>0</td>\n",
       "    </tr>\n",
       "    <tr>\n",
       "      <th>1447</th>\n",
       "      <td>0</td>\n",
       "      <td>0</td>\n",
       "      <td>0</td>\n",
       "      <td>0</td>\n",
       "      <td>0</td>\n",
       "      <td>0</td>\n",
       "      <td>0</td>\n",
       "      <td>0</td>\n",
       "      <td>0</td>\n",
       "      <td>0</td>\n",
       "      <td>...</td>\n",
       "      <td>0</td>\n",
       "      <td>0</td>\n",
       "      <td>0</td>\n",
       "      <td>0</td>\n",
       "      <td>0</td>\n",
       "      <td>0</td>\n",
       "      <td>0</td>\n",
       "      <td>0</td>\n",
       "      <td>0</td>\n",
       "      <td>0</td>\n",
       "    </tr>\n",
       "    <tr>\n",
       "      <th>1448</th>\n",
       "      <td>2</td>\n",
       "      <td>0</td>\n",
       "      <td>0</td>\n",
       "      <td>0</td>\n",
       "      <td>0</td>\n",
       "      <td>0</td>\n",
       "      <td>0</td>\n",
       "      <td>0</td>\n",
       "      <td>0</td>\n",
       "      <td>0</td>\n",
       "      <td>...</td>\n",
       "      <td>0</td>\n",
       "      <td>0</td>\n",
       "      <td>0</td>\n",
       "      <td>0</td>\n",
       "      <td>0</td>\n",
       "      <td>0</td>\n",
       "      <td>0</td>\n",
       "      <td>0</td>\n",
       "      <td>0</td>\n",
       "      <td>0</td>\n",
       "    </tr>\n",
       "  </tbody>\n",
       "</table></div>"
      ],
      "text/plain": [
       "      0     1     2     3     4     5     6     7     8     9     ...  991   \\\n",
       "1444     0     0     0     0     0     0     0     0     0     0  ...     0   \n",
       "1445     0     0     0     0     0     0     0     0     0     0  ...     0   \n",
       "1446     0     0     0     0     0     0     0     0     0     0  ...     0   \n",
       "1447     0     0     0     0     0     0     0     0     0     0  ...     0   \n",
       "1448     2     0     0     0     0     0     0     0     0     0  ...     0   \n",
       "\n",
       "      992   993   994   995   996   997   998   999   1000  \n",
       "1444     0     0     0     0     0     0     0     0     0  \n",
       "1445     0     0     0     0     0     0     0     0     0  \n",
       "1446     0     0     0     0     0     0     0     0     0  \n",
       "1447     0     0     0     0     0     0     0     0     0  \n",
       "1448     0     0     0     0     0     0     0     0     0  \n",
       "\n",
       "[5 rows x 1001 columns]"
      ]
     },
     "execution_count": 213,
     "metadata": {},
     "output_type": "execute_result"
    }
   ],
   "source": [
    "combined_data.tail()"
   ]
  },
  {
   "cell_type": "markdown",
   "id": "e1e39d68",
   "metadata": {},
   "source": [
    "## Setup Train/Test Split for Combined Data Set : For Default\n",
    "___"
   ]
  },
  {
   "cell_type": "code",
   "execution_count": 214,
   "id": "da954b53",
   "metadata": {},
   "outputs": [],
   "source": [
    "# Assume that we have decided to use the first 499 columns as predictors for the last column which is the outcome variable\n",
    "X = combined_data.iloc[:, 0:1000]\n",
    "\n",
    "# Negative index means to search from back to front\n",
    "# -1 means retrieve the last column\n",
    "y = combined_data.iloc[:, -1]"
   ]
  },
  {
   "cell_type": "code",
   "execution_count": 215,
   "id": "50ce3725",
   "metadata": {},
   "outputs": [],
   "source": [
    "#setup the Split Train/Test\n",
    "X_train, X_test, y_train, y_test = train_test_split(X, y, test_size=.25, random_state=100)"
   ]
  },
  {
   "cell_type": "markdown",
   "id": "f5118cda",
   "metadata": {},
   "source": [
    "## Baseline Model\n",
    "___\n",
    "Our baseline model is by looking at the proportions of post in one category, deciding if it belongs to one category by looking at the majority of the data."
   ]
  },
  {
   "cell_type": "code",
   "execution_count": 216,
   "id": "bbd19969",
   "metadata": {},
   "outputs": [
    {
     "data": {
      "text/plain": [
       "1    0.556246\n",
       "0    0.443754\n",
       "Name: 1000, dtype: float64"
      ]
     },
     "execution_count": 216,
     "metadata": {},
     "output_type": "execute_result"
    }
   ],
   "source": [
    "# Baseline Model (Percentage of one over the other)\n",
    "y.value_counts(normalize = True)\n"
   ]
  },
  {
   "cell_type": "markdown",
   "id": "b9b39387",
   "metadata": {},
   "source": [
    "This indicates to us that our dataset is likely to be alcoholic as there are more 1 (Alcoholic) than 0 (Smoking). Let's evaluate our prediction metrics based on our baseline model."
   ]
  },
  {
   "cell_type": "code",
   "execution_count": 217,
   "id": "8c1cd81a",
   "metadata": {},
   "outputs": [
    {
     "data": {
      "text/plain": [
       "[1]"
      ]
     },
     "execution_count": 217,
     "metadata": {},
     "output_type": "execute_result"
    }
   ],
   "source": [
    "# Baseline Model Metrics code\n",
    "base_y_pred = [round(y.value_counts(normalize = True).max())]\n",
    "base_y_pred"
   ]
  },
  {
   "cell_type": "markdown",
   "id": "9464b293",
   "metadata": {},
   "source": [
    "\n",
    "So it appears our baseline model will predict that all our posts in our data scrape belongs to alcoholics. This will result in approximately 44.45% of our posts misclassified. This will also mean our prediction score is at 0.5554. We will use this to compare with our models."
   ]
  },
  {
   "cell_type": "markdown",
   "id": "8bfaf440",
   "metadata": {},
   "source": [
    "## Combined Data: Using Bernoulli Naive Bayes "
   ]
  },
  {
   "cell_type": "code",
   "execution_count": 218,
   "id": "4253cb9d",
   "metadata": {},
   "outputs": [
    {
     "name": "stdout",
     "output_type": "stream",
     "text": [
      "BernoulliNB(binarize=True)\n",
      "Accuracy Score:\n",
      "0.5977961432506887\n",
      "\n",
      "\n",
      "train score: 0.638121546961326\n",
      "test score: 0.5977961432506887\n"
     ]
    }
   ],
   "source": [
    "# converts X-column dat \n",
    "# Values less than or equal to default threshold value = 0.0 is mapped to 0, else to 1. \n",
    "BernNB = BernoulliNB(binarize=True)\n",
    "BernNB.fit(X_train, y_train)\n",
    "print(BernNB)\n",
    "\n",
    "y_expect = y_test\n",
    "y_pred = BernNB.predict(X_test)\n",
    "print('Accuracy Score:')\n",
    "print(accuracy_score(y_expect, y_pred))\n",
    "print('\\n')\n",
    "print('train score:', BernNB.score(X_train, y_train))\n",
    "print('test score:', BernNB.score(X_test, y_test))"
   ]
  },
  {
   "cell_type": "code",
   "execution_count": 219,
   "id": "4947a77b",
   "metadata": {},
   "outputs": [
    {
     "name": "stdout",
     "output_type": "stream",
     "text": [
      "[[ 19 137]\n",
      " [  9 198]]\n",
      "              precision    recall  f1-score   support\n",
      "\n",
      "           0       0.68      0.12      0.21       156\n",
      "           1       0.59      0.96      0.73       207\n",
      "\n",
      "    accuracy                           0.60       363\n",
      "   macro avg       0.63      0.54      0.47       363\n",
      "weighted avg       0.63      0.60      0.51       363\n",
      "\n"
     ]
    }
   ],
   "source": [
    "print(confusion_matrix(y_test, BernNB.predict(X_test)))\n",
    "print(classification_report(y_test, BernNB.predict(X_test)))"
   ]
  },
  {
   "cell_type": "markdown",
   "id": "85501934",
   "metadata": {},
   "source": [
    "## Plotting ROC AUC"
   ]
  },
  {
   "cell_type": "code",
   "execution_count": 220,
   "id": "174c9746",
   "metadata": {
    "scrolled": false
   },
   "outputs": [
    {
     "data": {
      "image/png": "[encoded data removed]",
      "text/plain": [
       "<Figure size 432x288 with 1 Axes>"
      ]
     },
     "metadata": {
      "needs_background": "light"
     },
     "output_type": "display_data"
    }
   ],
   "source": [
    "plot_roc_curve(BernNB, X_test, y_test)\n",
    "plt.plot([0, 1], [0, 1],\n",
    "         label='baseline', linestyle='--')\n",
    "plt.legend();"
   ]
  },
  {
   "cell_type": "markdown",
   "id": "146cf35a",
   "metadata": {},
   "source": [
    "**Comparison:** Illustration and matrix above shows a very low score compare to what is believed to be accurate.  For the ROC AUC, it shows a score of 0.59 (59%) as the confusion matrix shows an accuracy f1-score of 0.60 (60%).  The score of the two can be hypothesis as that the method of just using a pair of variables provides a low result on what is needed for the machine to learn on.\n",
    "___"
   ]
  },
  {
   "cell_type": "markdown",
   "id": "f9f5a8cf",
   "metadata": {},
   "source": [
    "## Combined Data: Using Gaussian Naive Bayes "
   ]
  },
  {
   "cell_type": "code",
   "execution_count": 221,
   "id": "2baa05c7",
   "metadata": {
    "scrolled": true
   },
   "outputs": [
    {
     "name": "stdout",
     "output_type": "stream",
     "text": [
      "GaussianNB()\n",
      "Accuracy Score:\n",
      "0.8347107438016529\n",
      "\n",
      "\n",
      "train score: 0.8701657458563536\n",
      "test score: 0.8347107438016529\n"
     ]
    }
   ],
   "source": [
    "GausNB = GaussianNB()\n",
    "GausNB.fit(X_train, y_train)\n",
    "print(GausNB)\n",
    "\n",
    "\n",
    "y_pred = GausNB.predict(X_test)\n",
    "print('Accuracy Score:')\n",
    "print(accuracy_score(y_expect, y_pred))\n",
    "print('\\n')\n",
    "print('train score:', GausNB.score(X_train, y_train))\n",
    "print('test score:', GausNB.score(X_test, y_test))"
   ]
  },
  {
   "cell_type": "code",
   "execution_count": 222,
   "id": "3da0df36",
   "metadata": {},
   "outputs": [
    {
     "name": "stdout",
     "output_type": "stream",
     "text": [
      "[[149   7]\n",
      " [ 53 154]]\n",
      "              precision    recall  f1-score   support\n",
      "\n",
      "           0       0.74      0.96      0.83       156\n",
      "           1       0.96      0.74      0.84       207\n",
      "\n",
      "    accuracy                           0.83       363\n",
      "   macro avg       0.85      0.85      0.83       363\n",
      "weighted avg       0.86      0.83      0.83       363\n",
      "\n"
     ]
    }
   ],
   "source": [
    "print(confusion_matrix(y_test, GausNB.predict(X_test)))\n",
    "print(classification_report(y_test, GausNB.predict(X_test)))"
   ]
  },
  {
   "cell_type": "markdown",
   "id": "95a29e2e",
   "metadata": {},
   "source": [
    "## Plotting ROC AUC"
   ]
  },
  {
   "cell_type": "code",
   "execution_count": 223,
   "id": "fb90c4ef",
   "metadata": {
    "scrolled": false
   },
   "outputs": [
    {
     "data": {
      "image/png": "[encoded data removed]",
      "text/plain": [
       "<Figure size 432x288 with 1 Axes>"
      ]
     },
     "metadata": {
      "needs_background": "light"
     },
     "output_type": "display_data"
    }
   ],
   "source": [
    "\n",
    "plot_roc_curve(GausNB, X_test, y_test)\n",
    "plt.plot([0, 1], [0, 1],\n",
    "         label='baseline', linestyle='--')\n",
    "plt.legend();"
   ]
  },
  {
   "cell_type": "markdown",
   "id": "6b33d19b",
   "metadata": {},
   "source": [
    "**Comparison:** Illustration and matrix above shows a contrast of what is believed to be accurate.  For the ROC AUC, it shows a score of 0.92 (92%) as the confusion matrix shows an accuracy f1-score of 0.85 (85%).  The score difference between the two can be hypothesis as that although the score is close enough to get the result that we would like to have for our machine to learn, there are still contrast in the training/testing that does not provide a consist answer.  \n",
    "___"
   ]
  },
  {
   "cell_type": "markdown",
   "id": "673fa9bd",
   "metadata": {},
   "source": [
    "## Combined Data: Using Multinomial Naive Bayes "
   ]
  },
  {
   "cell_type": "code",
   "execution_count": 224,
   "id": "e3c88536",
   "metadata": {},
   "outputs": [
    {
     "name": "stdout",
     "output_type": "stream",
     "text": [
      "MultinomialNB()\n",
      "Accuracy Score:\n",
      "0.8705234159779615\n",
      "\n",
      "\n",
      "train score: 0.9355432780847146\n",
      "test score: 0.8705234159779615\n"
     ]
    }
   ],
   "source": [
    "MultiNB = MultinomialNB()\n",
    "MultiNB.fit(X_train, y_train)\n",
    "print(MultiNB)\n",
    "\n",
    "\n",
    "y_pred = MultiNB.predict(X_test)\n",
    "print('Accuracy Score:')\n",
    "print(accuracy_score(y_expect, y_pred))\n",
    "print('\\n')\n",
    "print('train score:', MultiNB.score(X_train, y_train))\n",
    "print('test score:', MultiNB.score(X_test, y_test))"
   ]
  },
  {
   "cell_type": "code",
   "execution_count": 225,
   "id": "1dc74e99",
   "metadata": {},
   "outputs": [
    {
     "name": "stdout",
     "output_type": "stream",
     "text": [
      "[[135  21]\n",
      " [ 26 181]]\n",
      "              precision    recall  f1-score   support\n",
      "\n",
      "           0       0.84      0.87      0.85       156\n",
      "           1       0.90      0.87      0.89       207\n",
      "\n",
      "    accuracy                           0.87       363\n",
      "   macro avg       0.87      0.87      0.87       363\n",
      "weighted avg       0.87      0.87      0.87       363\n",
      "\n"
     ]
    }
   ],
   "source": [
    "print(confusion_matrix(y_test, MultiNB.predict(X_test)))\n",
    "print(classification_report(y_test, MultiNB.predict(X_test)))"
   ]
  },
  {
   "cell_type": "code",
   "execution_count": 226,
   "id": "f721672a",
   "metadata": {},
   "outputs": [
    {
     "data": {
      "image/png": "[encoded data removed]",
      "text/plain": [
       "<Figure size 432x288 with 1 Axes>"
      ]
     },
     "metadata": {
      "needs_background": "light"
     },
     "output_type": "display_data"
    }
   ],
   "source": [
    "\n",
    "plot_roc_curve(MultiNB, X_test, y_test)\n",
    "plt.plot([0, 1], [0, 1],\n",
    "         label='baseline', linestyle='--')\n",
    "plt.legend();"
   ]
  },
  {
   "cell_type": "markdown",
   "id": "229b12e5",
   "metadata": {},
   "source": [
    "**Comparison:** Illustration and matrix above shows a very contrast of what is believed to be accurate.  For the ROC AUC, it shows a score of 0.96 (96%) as the confusion matrix shows an accuracy f1-score of 0.89 (89%).  The score difference between the two can be hypothesis as that although the score is close enough to get the result that we would like to have for our machine to learn, there are still contrast in the training/testing that does not provide a consist answer.  \n",
    "___\n",
    "After testing all three version of Naive Bayes, Multinomial had the best result with 0.8898. \n",
    "___"
   ]
  },
  {
   "cell_type": "markdown",
   "id": "05548add",
   "metadata": {},
   "source": [
    "## Optimize the Bernoulli Naive Bayes"
   ]
  },
  {
   "cell_type": "code",
   "execution_count": 227,
   "id": "6d152936",
   "metadata": {
    "scrolled": true
   },
   "outputs": [
    {
     "name": "stdout",
     "output_type": "stream",
     "text": [
      "BernoulliNB(binarize=0.1)\n",
      "Accuracy Score:\n",
      "0.8760330578512396\n",
      "\n",
      "\n",
      "train score: 0.9355432780847146\n",
      "test score: 0.8705234159779615\n"
     ]
    }
   ],
   "source": [
    "# Optimal results when you set binarize=0.1. This was found through trial and error.\n",
    "# Values less than or equal to 0.1 is mapped to 0, else to 1.\n",
    "# You may also consider using Hyperparameter Tuning techniques such as GridSearch to find the optimal threshold value\n",
    "BernNB = BernoulliNB(binarize=0.1)\n",
    "BernNB.fit(X_train, y_train)\n",
    "print(BernNB)\n",
    "\n",
    "y_expect = y_test\n",
    "y_pred = BernNB.predict(X_test)\n",
    "print('Accuracy Score:')\n",
    "print(accuracy_score(y_expect, y_pred))\n",
    "print('\\n')\n",
    "print('train score:', MultiNB.score(X_train, y_train))\n",
    "print('test score:', MultiNB.score(X_test, y_test))"
   ]
  },
  {
   "cell_type": "markdown",
   "id": "c45504c2",
   "metadata": {},
   "source": [
    "Since Bernoulli Naive Bayes had the worst score compared to Gaussian and Multinomial, trying to optimize it to see if it can match up with the other two was tested.  As in result, its score improved by around 0.18.  "
   ]
  },
  {
   "cell_type": "markdown",
   "id": "09c6bf71",
   "metadata": {},
   "source": [
    "## Plotting ROC AUC"
   ]
  },
  {
   "cell_type": "code",
   "execution_count": 228,
   "id": "694adf8d",
   "metadata": {},
   "outputs": [
    {
     "data": {
      "image/png": "[encoded data removed]",
      "text/plain": [
       "<Figure size 432x288 with 1 Axes>"
      ]
     },
     "metadata": {
      "needs_background": "light"
     },
     "output_type": "display_data"
    }
   ],
   "source": [
    "plot_roc_curve(BernNB, X_test, y_test)\n",
    "plt.plot([0, 1], [0, 1],\n",
    "         label='baseline', linestyle='--')\n",
    "plt.legend();"
   ]
  },
  {
   "cell_type": "markdown",
   "id": "936dfce6",
   "metadata": {},
   "source": [
    "## Method 2: Using KNN for Confusion Matrix and Classification Report"
   ]
  },
  {
   "cell_type": "code",
   "execution_count": 229,
   "id": "c9fdbb3c",
   "metadata": {},
   "outputs": [],
   "source": [
    "#impor library\n",
    "from sklearn.neighbors import KNeighborsClassifier\n",
    "from sklearn.metrics import classification_report, confusion_matrix"
   ]
  },
  {
   "cell_type": "code",
   "execution_count": 230,
   "id": "56b5575e",
   "metadata": {},
   "outputs": [],
   "source": [
    "#create instance for KNeighborsClassifier\n",
    "knn = KNeighborsClassifier(n_neighbors=1)"
   ]
  },
  {
   "cell_type": "code",
   "execution_count": 231,
   "id": "eb137891",
   "metadata": {},
   "outputs": [
    {
     "data": {
      "text/plain": [
       "KNeighborsClassifier(n_neighbors=1)"
      ]
     },
     "execution_count": 231,
     "metadata": {},
     "output_type": "execute_result"
    }
   ],
   "source": [
    "#fit the knn to both X and y trains\n",
    "knn.fit(X_train, y_train)"
   ]
  },
  {
   "cell_type": "code",
   "execution_count": 232,
   "id": "6fa4be45",
   "metadata": {},
   "outputs": [],
   "source": [
    "#set pred variable to knn.predict for X_test\n",
    "pred = knn.predict(X_test)"
   ]
  },
  {
   "cell_type": "code",
   "execution_count": 233,
   "id": "3b221314",
   "metadata": {
    "scrolled": false
   },
   "outputs": [
    {
     "name": "stdout",
     "output_type": "stream",
     "text": [
      "This is the Confusion Matrix:\n",
      "[[ 81  75]\n",
      " [ 33 174]]\n",
      "\n",
      "\n",
      "This is the Classification Report:\n",
      "              precision    recall  f1-score   support\n",
      "\n",
      "           0       0.71      0.52      0.60       156\n",
      "           1       0.70      0.84      0.76       207\n",
      "\n",
      "    accuracy                           0.70       363\n",
      "   macro avg       0.70      0.68      0.68       363\n",
      "weighted avg       0.70      0.70      0.69       363\n",
      "\n"
     ]
    }
   ],
   "source": [
    "#print out results for both confusion matrix and classification report\n",
    "print('This is the Confusion Matrix:')\n",
    "print(confusion_matrix(y_test, pred))\n",
    "print('\\n')\n",
    "print('This is the Classification Report:')\n",
    "print(classification_report(y_test, pred))"
   ]
  },
  {
   "cell_type": "markdown",
   "id": "b6a737ef",
   "metadata": {},
   "source": [
    "___\n",
    "The accuracy of the KNN model is not up to our standard as the it still give a 40% chance of error.  Further optimization will need to be done to see if it can improve this score.\n",
    "___"
   ]
  },
  {
   "cell_type": "markdown",
   "id": "44bc7156",
   "metadata": {},
   "source": [
    "## Using Gridsearch to find a more accurate n_neighbors number"
   ]
  },
  {
   "cell_type": "code",
   "execution_count": 234,
   "id": "fe370877",
   "metadata": {},
   "outputs": [],
   "source": [
    "# Set up experiment with taining and test data for X and Y values\n",
    "X_train2, X_test2, y_train2, y_test2 = train_test_split(X, y, random_state=0)"
   ]
  },
  {
   "cell_type": "code",
   "execution_count": 235,
   "id": "ab6ec4d2",
   "metadata": {},
   "outputs": [
    {
     "data": {
      "text/plain": [
       "KNeighborsClassifier(n_neighbors=3)"
      ]
     },
     "execution_count": 235,
     "metadata": {},
     "output_type": "execute_result"
    }
   ],
   "source": [
    "# Instantiate Basic Knn with initial k value\n",
    "knn = KNeighborsClassifier(n_neighbors = 3)\n",
    "knn.fit(X_train2, y_train2)"
   ]
  },
  {
   "cell_type": "code",
   "execution_count": 236,
   "id": "fe36468f",
   "metadata": {},
   "outputs": [
    {
     "data": {
      "text/plain": [
       "0.6859504132231405"
      ]
     },
     "execution_count": 236,
     "metadata": {},
     "output_type": "execute_result"
    }
   ],
   "source": [
    "# Evaluate and display mean accuracy of Basic Knn on test data\n",
    "knn.score(X_test2, y_test2)"
   ]
  },
  {
   "cell_type": "code",
   "execution_count": 237,
   "id": "6637c8e9",
   "metadata": {},
   "outputs": [],
   "source": [
    "# Set up Gridsearch with preferred n_neighbours range and preferred CV value\n",
    "num_range = range(1,40)\n",
    "params = {\"n_neighbors\":num_range}\n",
    "model = GridSearchCV(knn, params, cv=5)"
   ]
  },
  {
   "cell_type": "code",
   "execution_count": 238,
   "id": "b82c857b",
   "metadata": {},
   "outputs": [
    {
     "data": {
      "text/plain": [
       "{'n_neighbors': 29}"
      ]
     },
     "execution_count": 238,
     "metadata": {},
     "output_type": "execute_result"
    }
   ],
   "source": [
    "#fit model with new information\n",
    "model.fit(X_train2, y_train2)\n",
    "model.best_params_"
   ]
  },
  {
   "cell_type": "code",
   "execution_count": 239,
   "id": "4b5351fe",
   "metadata": {},
   "outputs": [
    {
     "data": {
      "text/plain": [
       "KNeighborsClassifier()"
      ]
     },
     "execution_count": 239,
     "metadata": {},
     "output_type": "execute_result"
    }
   ],
   "source": [
    "# Knn with 5 neighbors\n",
    "gridsearch_knn = KNeighborsClassifier(n_neighbors = 5)\n",
    "gridsearch_knn.fit(X_train, y_train)"
   ]
  },
  {
   "cell_type": "code",
   "execution_count": 240,
   "id": "b08b7b25",
   "metadata": {},
   "outputs": [
    {
     "name": "stdout",
     "output_type": "stream",
     "text": [
      "[1 0 1 1 0 1 1 1 1 1 1 1 1 0 0 1 1 1 1 0 0 1 1 1 1 1 1 1 0 1 1 1 1 1 1 1 1\n",
      " 1 1 1 0 0 1 0 1 1 1 1 1 1 1 0 1 1 1 1 1 0 1 0 0 0 1 0 1 1 1 1 1 0 0 0 0 1\n",
      " 1 1 1 1 1 1 1 1 0 1 1 1 1 1 1 1 1 1 1 1 1 0 1 1 1 1 0 1 0 0 1 1 1 1 1 0 1\n",
      " 0 0 1 1 0 1 1 1 1 0 0 1 1 1 1 1 1 1 1 1 0 1 1 1 1 1 1 1 1 1 1 1 1 1 1 1 0\n",
      " 0 1 0 1 1 0 1 1 1 1 1 1 1 1 1 1 1 1 1 0 1 0 1 1 1 1 0 1 1 1 0 0 1 1 1 1 0\n",
      " 1 0 0 1 0 1 0 0 0 1 1 1 1 1 0 0 0 1 1 1 1 1 0 1 1 1 1 1 1 1 1 1 1 1 0 1 1\n",
      " 1 0 1 1 1 1 1 0 1 0 1 0 1 0 1 1 1 1 1 1 1 1 1 1 1 0 0 0 1 1 1 1 1 1 1 0 1\n",
      " 1 0 1 1 1 1 0 1 1 1 1 1 1 1 1 1 1 0 1 1 1 1 0 1 0 1 1 1 1 1 0 0 1 0 1 0 1\n",
      " 1 0 1 1 1 1 0 1 1 1 0 1 1 1 0 1 1 1 1 1 1 0 1 1 0 0 1 1 1 0 1 1 1 1 0 0 1\n",
      " 1 1 1 1 1 1 1 1 1 1 0 1 1 1 1 1 1 1 0 0 1 1 1 1 1 1 1 0 1 1]\n"
     ]
    }
   ],
   "source": [
    "#do a gridsearch using X_test\n",
    "gridsearch_y_pred = gridsearch_knn.predict(X_test)\n",
    "\n",
    "#showcase the predicted y through gridsearch\n",
    "print(gridsearch_y_pred)"
   ]
  },
  {
   "cell_type": "code",
   "execution_count": 241,
   "id": "f972ba23",
   "metadata": {
    "scrolled": false
   },
   "outputs": [
    {
     "name": "stdout",
     "output_type": "stream",
     "text": [
      "This is the Confusion Matrix:\n",
      "[[ 63  93]\n",
      " [ 22 185]]\n",
      "\n",
      "\n",
      "This is the Classification Report:\n",
      "              precision    recall  f1-score   support\n",
      "\n",
      "           0       0.74      0.40      0.52       156\n",
      "           1       0.67      0.89      0.76       207\n",
      "\n",
      "    accuracy                           0.68       363\n",
      "   macro avg       0.70      0.65      0.64       363\n",
      "weighted avg       0.70      0.68      0.66       363\n",
      "\n"
     ]
    }
   ],
   "source": [
    "#print out results for both confusion matrix and classification report\n",
    "print('This is the Confusion Matrix:')\n",
    "print(confusion_matrix(y_test, gridsearch_y_pred))\n",
    "print('\\n')\n",
    "print('This is the Classification Report:')\n",
    "print(classification_report(y_test, gridsearch_y_pred))"
   ]
  },
  {
   "cell_type": "markdown",
   "id": "efccc183",
   "metadata": {},
   "source": [
    "___\n",
    "After using Gridsearch to find the most accurate n_neighbors number. (n_neighbors = 5). The new accuracy went up by 0.09 which is better compare from before but the Multinomial Naive Bayes still provided the best results compare to others.\n",
    "___"
   ]
  },
  {
   "cell_type": "markdown",
   "id": "1821a118",
   "metadata": {},
   "source": [
    "### Cross Validation"
   ]
  },
  {
   "cell_type": "code",
   "execution_count": 242,
   "id": "85ab0595",
   "metadata": {},
   "outputs": [
    {
     "data": {
      "text/plain": [
       "0.6620344142392085"
      ]
     },
     "execution_count": 242,
     "metadata": {},
     "output_type": "execute_result"
    }
   ],
   "source": [
    "from sklearn.model_selection import cross_val_score\n",
    "\n",
    "cross_val_score(knn, X_train, y_train, cv=5).mean()"
   ]
  },
  {
   "cell_type": "code",
   "execution_count": 243,
   "id": "581fefcf",
   "metadata": {},
   "outputs": [
    {
     "data": {
      "text/plain": [
       "0.8812154696132597"
      ]
     },
     "execution_count": 243,
     "metadata": {},
     "output_type": "execute_result"
    }
   ],
   "source": [
    "knn.fit(X_train, y_train)\n",
    "knn.score(X_train, y_train)"
   ]
  },
  {
   "cell_type": "code",
   "execution_count": 244,
   "id": "b1a46538",
   "metadata": {},
   "outputs": [
    {
     "data": {
      "text/plain": [
       "0.7355371900826446"
      ]
     },
     "execution_count": 244,
     "metadata": {},
     "output_type": "execute_result"
    }
   ],
   "source": [
    "knn.score(X_test, y_test)"
   ]
  },
  {
   "cell_type": "code",
   "execution_count": 245,
   "id": "7b58d0b2",
   "metadata": {},
   "outputs": [
    {
     "name": "stdout",
     "output_type": "stream",
     "text": [
      "[[108  48]\n",
      " [ 48 159]]\n",
      "              precision    recall  f1-score   support\n",
      "\n",
      "           0       0.69      0.69      0.69       156\n",
      "           1       0.77      0.77      0.77       207\n",
      "\n",
      "    accuracy                           0.74       363\n",
      "   macro avg       0.73      0.73      0.73       363\n",
      "weighted avg       0.74      0.74      0.74       363\n",
      "\n"
     ]
    }
   ],
   "source": [
    "print(confusion_matrix(y_test, knn.predict(X_test)))\n",
    "print(classification_report(y_test, knn.predict(X_test)))"
   ]
  },
  {
   "cell_type": "markdown",
   "id": "9931e5c1",
   "metadata": {},
   "source": [
    "## Plotting ROC AUC"
   ]
  },
  {
   "cell_type": "code",
   "execution_count": 246,
   "id": "20837cf8",
   "metadata": {},
   "outputs": [
    {
     "data": {
      "image/png": "[encoded data removed]",
      "text/plain": [
       "<Figure size 432x288 with 1 Axes>"
      ]
     },
     "metadata": {
      "needs_background": "light"
     },
     "output_type": "display_data"
    }
   ],
   "source": [
    "plot_roc_curve(knn, X_test, y_test)\n",
    "plt.plot([0, 1], [0, 1],\n",
    "         label='baseline', linestyle='--')\n",
    "plt.legend();"
   ]
  },
  {
   "cell_type": "markdown",
   "id": "e670d28d",
   "metadata": {},
   "source": [
    "We have a ROC AUC of 0.77, thus this indicates to us that KNN model is close to being perfectly separated. This indicates that KNN model also has a high level of accuracy in prediction results for our model.\n",
    "\n",
    "In our confusion matrix, KNN model performs not as well, with precision, recall and f1-scores ranging from 0.69. The train and test scores have a high contrast of scoring between the two. This indicates that there are probably quite a bit of outfitters that are skewing the result."
   ]
  }
 ],
 "metadata": {
  "kernelspec": {
   "display_name": "Python 3",
   "language": "python",
   "name": "python3"
  },
  "language_info": {
   "codemirror_mode": {
    "name": "ipython",
    "version": 3
   },
   "file_extension": ".py",
   "mimetype": "text/x-python",
   "name": "python",
   "nbconvert_exporter": "python",
   "pygments_lexer": "ipython3",
   "version": "3.8.8"
  }
 },
 "nbformat": 4,
 "nbformat_minor": 5
}
