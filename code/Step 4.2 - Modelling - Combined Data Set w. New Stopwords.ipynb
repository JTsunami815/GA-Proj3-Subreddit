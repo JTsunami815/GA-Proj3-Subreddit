{
 "cells": [
  {
   "cell_type": "markdown",
   "id": "c6fd172b",
   "metadata": {},
   "source": [
    "# Naive Bayes & KNN - For Combined Data Set That is Using New Stopwords List\n",
    "___"
   ]
  },
  {
   "cell_type": "markdown",
   "id": "5f4ee216",
   "metadata": {},
   "source": [
    "## Import Libraries\n",
    "___"
   ]
  },
  {
   "cell_type": "code",
   "execution_count": 131,
   "id": "6547067c",
   "metadata": {},
   "outputs": [],
   "source": [
    "#import libraries\n",
    "import numpy as np\n",
    "import pandas as pd\n",
    "import sklearn\n",
    "import matplotlib.pyplot as plt\n",
    "import seaborn as sns\n",
    "\n",
    "#setup from sklearn\n",
    "from sklearn.model_selection import train_test_split\n",
    "from sklearn import metrics\n",
    "from sklearn.metrics import accuracy_score\n",
    "from sklearn.model_selection import GridSearchCV\n",
    "from sklearn.metrics import confusion_matrix, plot_confusion_matrix, accuracy_score, plot_roc_curve, \\\n",
    "roc_auc_score, recall_score, precision_score, f1_score\n",
    "from sklearn.metrics import classification_report\n",
    "from sklearn.preprocessing import Binarizer\n",
    "from sklearn.naive_bayes import BernoulliNB\n",
    "from sklearn.naive_bayes import GaussianNB\n",
    "from sklearn.naive_bayes import MultinomialNB\n",
    "\n",
    "#allow visual graphs to be plotted within notebook\n",
    "%matplotlib inline"
   ]
  },
  {
   "cell_type": "markdown",
   "id": "9c8bac1b",
   "metadata": {},
   "source": [
    "## Load in Combined Data File"
   ]
  },
  {
   "cell_type": "code",
   "execution_count": 132,
   "id": "b38b4859",
   "metadata": {
    "scrolled": false
   },
   "outputs": [
    {
     "data": {
      "text/html": [
       "<div><div id=19c74c81-c204-42ac-80d8-143622854077 style=\"display:none; background-color:#9D6CFF; color:white; width:200px; height:30px; padding-left:5px; border-radius:4px; flex-direction:row; justify-content:space-around; align-items:center;\" onmouseover=\"this.style.backgroundColor='#BA9BF8'\" onmouseout=\"this.style.backgroundColor='#9D6CFF'\" onclick=\"window.commands?.execute('create-mitosheet-from-dataframe-output');\">See Full Dataframe in Mito</div> <script> if (window.commands.hasCommand('create-mitosheet-from-dataframe-output')) document.getElementById('19c74c81-c204-42ac-80d8-143622854077').style.display = 'flex' </script> <table border=\"1\" class=\"dataframe\">\n",
       "  <thead>\n",
       "    <tr style=\"text-align: right;\">\n",
       "      <th></th>\n",
       "      <th>0</th>\n",
       "      <th>1</th>\n",
       "      <th>2</th>\n",
       "      <th>3</th>\n",
       "      <th>4</th>\n",
       "      <th>5</th>\n",
       "      <th>6</th>\n",
       "      <th>7</th>\n",
       "      <th>8</th>\n",
       "      <th>9</th>\n",
       "      <th>...</th>\n",
       "      <th>991</th>\n",
       "      <th>992</th>\n",
       "      <th>993</th>\n",
       "      <th>994</th>\n",
       "      <th>995</th>\n",
       "      <th>996</th>\n",
       "      <th>997</th>\n",
       "      <th>998</th>\n",
       "      <th>999</th>\n",
       "      <th>1000</th>\n",
       "    </tr>\n",
       "  </thead>\n",
       "  <tbody>\n",
       "    <tr>\n",
       "      <th>0</th>\n",
       "      <td>0</td>\n",
       "      <td>0</td>\n",
       "      <td>0</td>\n",
       "      <td>0</td>\n",
       "      <td>0</td>\n",
       "      <td>0</td>\n",
       "      <td>0</td>\n",
       "      <td>0</td>\n",
       "      <td>0</td>\n",
       "      <td>0</td>\n",
       "      <td>...</td>\n",
       "      <td>0</td>\n",
       "      <td>0</td>\n",
       "      <td>0</td>\n",
       "      <td>0</td>\n",
       "      <td>0</td>\n",
       "      <td>0</td>\n",
       "      <td>0</td>\n",
       "      <td>0</td>\n",
       "      <td>0</td>\n",
       "      <td>1</td>\n",
       "    </tr>\n",
       "    <tr>\n",
       "      <th>1</th>\n",
       "      <td>0</td>\n",
       "      <td>0</td>\n",
       "      <td>0</td>\n",
       "      <td>0</td>\n",
       "      <td>0</td>\n",
       "      <td>0</td>\n",
       "      <td>0</td>\n",
       "      <td>0</td>\n",
       "      <td>0</td>\n",
       "      <td>0</td>\n",
       "      <td>...</td>\n",
       "      <td>0</td>\n",
       "      <td>0</td>\n",
       "      <td>0</td>\n",
       "      <td>0</td>\n",
       "      <td>0</td>\n",
       "      <td>0</td>\n",
       "      <td>0</td>\n",
       "      <td>0</td>\n",
       "      <td>0</td>\n",
       "      <td>1</td>\n",
       "    </tr>\n",
       "    <tr>\n",
       "      <th>2</th>\n",
       "      <td>0</td>\n",
       "      <td>0</td>\n",
       "      <td>0</td>\n",
       "      <td>0</td>\n",
       "      <td>0</td>\n",
       "      <td>0</td>\n",
       "      <td>0</td>\n",
       "      <td>0</td>\n",
       "      <td>0</td>\n",
       "      <td>0</td>\n",
       "      <td>...</td>\n",
       "      <td>0</td>\n",
       "      <td>0</td>\n",
       "      <td>0</td>\n",
       "      <td>0</td>\n",
       "      <td>0</td>\n",
       "      <td>0</td>\n",
       "      <td>0</td>\n",
       "      <td>0</td>\n",
       "      <td>0</td>\n",
       "      <td>1</td>\n",
       "    </tr>\n",
       "    <tr>\n",
       "      <th>3</th>\n",
       "      <td>0</td>\n",
       "      <td>0</td>\n",
       "      <td>0</td>\n",
       "      <td>0</td>\n",
       "      <td>0</td>\n",
       "      <td>0</td>\n",
       "      <td>0</td>\n",
       "      <td>0</td>\n",
       "      <td>0</td>\n",
       "      <td>0</td>\n",
       "      <td>...</td>\n",
       "      <td>0</td>\n",
       "      <td>0</td>\n",
       "      <td>0</td>\n",
       "      <td>0</td>\n",
       "      <td>0</td>\n",
       "      <td>0</td>\n",
       "      <td>0</td>\n",
       "      <td>0</td>\n",
       "      <td>0</td>\n",
       "      <td>1</td>\n",
       "    </tr>\n",
       "    <tr>\n",
       "      <th>4</th>\n",
       "      <td>0</td>\n",
       "      <td>0</td>\n",
       "      <td>0</td>\n",
       "      <td>0</td>\n",
       "      <td>0</td>\n",
       "      <td>0</td>\n",
       "      <td>0</td>\n",
       "      <td>0</td>\n",
       "      <td>0</td>\n",
       "      <td>0</td>\n",
       "      <td>...</td>\n",
       "      <td>0</td>\n",
       "      <td>0</td>\n",
       "      <td>0</td>\n",
       "      <td>0</td>\n",
       "      <td>0</td>\n",
       "      <td>0</td>\n",
       "      <td>0</td>\n",
       "      <td>0</td>\n",
       "      <td>0</td>\n",
       "      <td>1</td>\n",
       "    </tr>\n",
       "  </tbody>\n",
       "</table></div>"
      ],
      "text/plain": [
       "   0     1     2     3     4     5     6     7     8     9     ...  991   \\\n",
       "0     0     0     0     0     0     0     0     0     0     0  ...     0   \n",
       "1     0     0     0     0     0     0     0     0     0     0  ...     0   \n",
       "2     0     0     0     0     0     0     0     0     0     0  ...     0   \n",
       "3     0     0     0     0     0     0     0     0     0     0  ...     0   \n",
       "4     0     0     0     0     0     0     0     0     0     0  ...     0   \n",
       "\n",
       "   992   993   994   995   996   997   998   999   1000  \n",
       "0     0     0     0     0     0     0     0     0     1  \n",
       "1     0     0     0     0     0     0     0     0     1  \n",
       "2     0     0     0     0     0     0     0     0     1  \n",
       "3     0     0     0     0     0     0     0     0     1  \n",
       "4     0     0     0     0     0     0     0     0     1  \n",
       "\n",
       "[5 rows x 1001 columns]"
      ]
     },
     "execution_count": 132,
     "metadata": {},
     "output_type": "execute_result"
    }
   ],
   "source": [
    "combined_data_new_stopwords = pd.read_csv('../data/Combined_DF_new_stopwords_for_Naive_Bayes.csv', header=None)\n",
    "\n",
    "combined_data_new_stopwords.head()"
   ]
  },
  {
   "cell_type": "code",
   "execution_count": 133,
   "id": "95be9fa8",
   "metadata": {},
   "outputs": [
    {
     "data": {
      "text/html": [
       "<div><div id=0f2bcc50-8cf8-4991-a4fa-e7c5590f5e20 style=\"display:none; background-color:#9D6CFF; color:white; width:200px; height:30px; padding-left:5px; border-radius:4px; flex-direction:row; justify-content:space-around; align-items:center;\" onmouseover=\"this.style.backgroundColor='#BA9BF8'\" onmouseout=\"this.style.backgroundColor='#9D6CFF'\" onclick=\"window.commands?.execute('create-mitosheet-from-dataframe-output');\">See Full Dataframe in Mito</div> <script> if (window.commands.hasCommand('create-mitosheet-from-dataframe-output')) document.getElementById('0f2bcc50-8cf8-4991-a4fa-e7c5590f5e20').style.display = 'flex' </script> <table border=\"1\" class=\"dataframe\">\n",
       "  <thead>\n",
       "    <tr style=\"text-align: right;\">\n",
       "      <th></th>\n",
       "      <th>0</th>\n",
       "      <th>1</th>\n",
       "      <th>2</th>\n",
       "      <th>3</th>\n",
       "      <th>4</th>\n",
       "      <th>5</th>\n",
       "      <th>6</th>\n",
       "      <th>7</th>\n",
       "      <th>8</th>\n",
       "      <th>9</th>\n",
       "      <th>...</th>\n",
       "      <th>991</th>\n",
       "      <th>992</th>\n",
       "      <th>993</th>\n",
       "      <th>994</th>\n",
       "      <th>995</th>\n",
       "      <th>996</th>\n",
       "      <th>997</th>\n",
       "      <th>998</th>\n",
       "      <th>999</th>\n",
       "      <th>1000</th>\n",
       "    </tr>\n",
       "  </thead>\n",
       "  <tbody>\n",
       "    <tr>\n",
       "      <th>1557</th>\n",
       "      <td>0</td>\n",
       "      <td>0</td>\n",
       "      <td>0</td>\n",
       "      <td>0</td>\n",
       "      <td>0</td>\n",
       "      <td>0</td>\n",
       "      <td>0</td>\n",
       "      <td>0</td>\n",
       "      <td>0</td>\n",
       "      <td>0</td>\n",
       "      <td>...</td>\n",
       "      <td>0</td>\n",
       "      <td>0</td>\n",
       "      <td>0</td>\n",
       "      <td>0</td>\n",
       "      <td>0</td>\n",
       "      <td>0</td>\n",
       "      <td>0</td>\n",
       "      <td>0</td>\n",
       "      <td>0</td>\n",
       "      <td>0</td>\n",
       "    </tr>\n",
       "    <tr>\n",
       "      <th>1558</th>\n",
       "      <td>0</td>\n",
       "      <td>0</td>\n",
       "      <td>0</td>\n",
       "      <td>0</td>\n",
       "      <td>0</td>\n",
       "      <td>0</td>\n",
       "      <td>0</td>\n",
       "      <td>0</td>\n",
       "      <td>0</td>\n",
       "      <td>0</td>\n",
       "      <td>...</td>\n",
       "      <td>0</td>\n",
       "      <td>0</td>\n",
       "      <td>0</td>\n",
       "      <td>0</td>\n",
       "      <td>0</td>\n",
       "      <td>0</td>\n",
       "      <td>0</td>\n",
       "      <td>0</td>\n",
       "      <td>0</td>\n",
       "      <td>0</td>\n",
       "    </tr>\n",
       "    <tr>\n",
       "      <th>1559</th>\n",
       "      <td>0</td>\n",
       "      <td>0</td>\n",
       "      <td>0</td>\n",
       "      <td>0</td>\n",
       "      <td>0</td>\n",
       "      <td>0</td>\n",
       "      <td>0</td>\n",
       "      <td>0</td>\n",
       "      <td>0</td>\n",
       "      <td>0</td>\n",
       "      <td>...</td>\n",
       "      <td>0</td>\n",
       "      <td>0</td>\n",
       "      <td>0</td>\n",
       "      <td>0</td>\n",
       "      <td>0</td>\n",
       "      <td>0</td>\n",
       "      <td>0</td>\n",
       "      <td>0</td>\n",
       "      <td>0</td>\n",
       "      <td>0</td>\n",
       "    </tr>\n",
       "    <tr>\n",
       "      <th>1560</th>\n",
       "      <td>0</td>\n",
       "      <td>0</td>\n",
       "      <td>0</td>\n",
       "      <td>0</td>\n",
       "      <td>0</td>\n",
       "      <td>0</td>\n",
       "      <td>0</td>\n",
       "      <td>0</td>\n",
       "      <td>0</td>\n",
       "      <td>0</td>\n",
       "      <td>...</td>\n",
       "      <td>0</td>\n",
       "      <td>0</td>\n",
       "      <td>0</td>\n",
       "      <td>0</td>\n",
       "      <td>0</td>\n",
       "      <td>0</td>\n",
       "      <td>0</td>\n",
       "      <td>0</td>\n",
       "      <td>0</td>\n",
       "      <td>0</td>\n",
       "    </tr>\n",
       "    <tr>\n",
       "      <th>1561</th>\n",
       "      <td>2</td>\n",
       "      <td>0</td>\n",
       "      <td>0</td>\n",
       "      <td>0</td>\n",
       "      <td>0</td>\n",
       "      <td>0</td>\n",
       "      <td>0</td>\n",
       "      <td>0</td>\n",
       "      <td>0</td>\n",
       "      <td>0</td>\n",
       "      <td>...</td>\n",
       "      <td>0</td>\n",
       "      <td>0</td>\n",
       "      <td>0</td>\n",
       "      <td>0</td>\n",
       "      <td>0</td>\n",
       "      <td>0</td>\n",
       "      <td>0</td>\n",
       "      <td>0</td>\n",
       "      <td>0</td>\n",
       "      <td>0</td>\n",
       "    </tr>\n",
       "  </tbody>\n",
       "</table></div>"
      ],
      "text/plain": [
       "      0     1     2     3     4     5     6     7     8     9     ...  991   \\\n",
       "1557     0     0     0     0     0     0     0     0     0     0  ...     0   \n",
       "1558     0     0     0     0     0     0     0     0     0     0  ...     0   \n",
       "1559     0     0     0     0     0     0     0     0     0     0  ...     0   \n",
       "1560     0     0     0     0     0     0     0     0     0     0  ...     0   \n",
       "1561     2     0     0     0     0     0     0     0     0     0  ...     0   \n",
       "\n",
       "      992   993   994   995   996   997   998   999   1000  \n",
       "1557     0     0     0     0     0     0     0     0     0  \n",
       "1558     0     0     0     0     0     0     0     0     0  \n",
       "1559     0     0     0     0     0     0     0     0     0  \n",
       "1560     0     0     0     0     0     0     0     0     0  \n",
       "1561     0     0     0     0     0     0     0     0     0  \n",
       "\n",
       "[5 rows x 1001 columns]"
      ]
     },
     "execution_count": 133,
     "metadata": {},
     "output_type": "execute_result"
    }
   ],
   "source": [
    "combined_data_new_stopwords.tail()"
   ]
  },
  {
   "cell_type": "markdown",
   "id": "e1e39d68",
   "metadata": {},
   "source": [
    "## Setup Train/Test Split for Combined Data Set : For Default\n",
    "___"
   ]
  },
  {
   "cell_type": "code",
   "execution_count": 134,
   "id": "da954b53",
   "metadata": {},
   "outputs": [],
   "source": [
    "# Assume that we have decided to use the first 499 columns as predictors for the last column which is the outcome variable\n",
    "X = combined_data_new_stopwords.iloc[:, 0:1000]\n",
    "\n",
    "# Negative index means to search from back to front\n",
    "# -1 means retrieve the last column\n",
    "y = combined_data_new_stopwords.iloc[:, -1]"
   ]
  },
  {
   "cell_type": "code",
   "execution_count": 135,
   "id": "50ce3725",
   "metadata": {},
   "outputs": [],
   "source": [
    "#setup the Split Train/Test\n",
    "X_train, X_test, y_train, y_test = train_test_split(X, y, test_size=.25, random_state=100)"
   ]
  },
  {
   "cell_type": "markdown",
   "id": "1c3a42fd",
   "metadata": {},
   "source": [
    "## Baseline Model\n",
    "___\n",
    "Our baseline model is by looking at the proportions of post in one category, deciding if it belongs to one category by looking at the majority of the data."
   ]
  },
  {
   "cell_type": "code",
   "execution_count": 136,
   "id": "ebb28b14",
   "metadata": {},
   "outputs": [
    {
     "data": {
      "text/plain": [
       "1    0.556338\n",
       "0    0.443662\n",
       "Name: 1000, dtype: float64"
      ]
     },
     "execution_count": 136,
     "metadata": {},
     "output_type": "execute_result"
    }
   ],
   "source": [
    "# Baseline Model (Percentage of one over the other)\n",
    "y.value_counts(normalize = True)\n"
   ]
  },
  {
   "cell_type": "markdown",
   "id": "125c8e0a",
   "metadata": {},
   "source": [
    "This indicates to us that our dataset is likely to be alcoholic as there are more 1 (Alcoholic) than 0 (Smoking). Let's evaluate our prediction metrics based on our baseline model."
   ]
  },
  {
   "cell_type": "code",
   "execution_count": 137,
   "id": "f0288692",
   "metadata": {},
   "outputs": [
    {
     "data": {
      "text/plain": [
       "[1]"
      ]
     },
     "execution_count": 137,
     "metadata": {},
     "output_type": "execute_result"
    }
   ],
   "source": [
    "# Baseline Model Metrics code\n",
    "base_y_pred = [round(y.value_counts(normalize = True).max())]\n",
    "base_y_pred"
   ]
  },
  {
   "cell_type": "markdown",
   "id": "28ab69d7",
   "metadata": {},
   "source": [
    "So it appears our baseline model will predict that all our posts in our data scrape belongs to alcoholics. This will result in approximately 44.3% of our posts misclassified. This will also mean our prediction score is at 0.556. We will use this to compare with our models."
   ]
  },
  {
   "cell_type": "markdown",
   "id": "8bfaf440",
   "metadata": {},
   "source": [
    "## Combined Data: Using Bernoulli Naive Bayes "
   ]
  },
  {
   "cell_type": "code",
   "execution_count": 138,
   "id": "4253cb9d",
   "metadata": {},
   "outputs": [
    {
     "name": "stdout",
     "output_type": "stream",
     "text": [
      "BernoulliNB(binarize=True)\n",
      "Accuracy Score:\n",
      "0.8005115089514067\n",
      "\n",
      "\n",
      "train score: 0.8018787361229718\n",
      "test score: 0.8005115089514067\n"
     ]
    }
   ],
   "source": [
    "# converts X-column dat \n",
    "# Values less than or equal to default threshold value = 0.0 is mapped to 0, else to 1. \n",
    "BernNB = BernoulliNB(binarize=True)\n",
    "BernNB.fit(X_train, y_train)\n",
    "print(BernNB)\n",
    "\n",
    "y_expect = y_test\n",
    "y_pred = BernNB.predict(X_test)\n",
    "print('Accuracy Score:')\n",
    "print(accuracy_score(y_expect, y_pred))\n",
    "print('\\n')\n",
    "print('train score:', BernNB.score(X_train, y_train))\n",
    "print('test score:', BernNB.score(X_test, y_test))"
   ]
  },
  {
   "cell_type": "code",
   "execution_count": 139,
   "id": "4e6b11ba",
   "metadata": {},
   "outputs": [
    {
     "name": "stdout",
     "output_type": "stream",
     "text": [
      "[[166   9]\n",
      " [ 69 147]]\n",
      "              precision    recall  f1-score   support\n",
      "\n",
      "           0       0.71      0.95      0.81       175\n",
      "           1       0.94      0.68      0.79       216\n",
      "\n",
      "    accuracy                           0.80       391\n",
      "   macro avg       0.82      0.81      0.80       391\n",
      "weighted avg       0.84      0.80      0.80       391\n",
      "\n"
     ]
    }
   ],
   "source": [
    "print(confusion_matrix(y_test, BernNB.predict(X_test)))\n",
    "print(classification_report(y_test, BernNB.predict(X_test)))"
   ]
  },
  {
   "cell_type": "markdown",
   "id": "9d7b32be",
   "metadata": {},
   "source": [
    "## Plotting ROC AUC"
   ]
  },
  {
   "cell_type": "code",
   "execution_count": 140,
   "id": "ba12dadb",
   "metadata": {
    "scrolled": false
   },
   "outputs": [
    {
     "data": {
      "image/png": "[encoded data removed]",
      "text/plain": [
       "<Figure size 432x288 with 1 Axes>"
      ]
     },
     "metadata": {
      "needs_background": "light"
     },
     "output_type": "display_data"
    }
   ],
   "source": [
    "plot_roc_curve(BernNB, X_test, y_test)\n",
    "plt.plot([0, 1], [0, 1],\n",
    "         label='baseline', linestyle='--')\n",
    "plt.legend();"
   ]
  },
  {
   "cell_type": "markdown",
   "id": "29bff8fa",
   "metadata": {},
   "source": [
    "**Comparison:** Illustration and matrix above shows a very contrast of what is believed to be accurate.  For the ROC AUC, it shows a score of 0.89 (89%) as the confusion matrix shows an accuracy f1-score of 0.74 (74%).  The score difference between the two can be hypothesis as that although the score is close enough to get the result that we would like to have for our machine to learn, there are still contrast in the training/testing that does not provide a consist answer.  \n",
    "___"
   ]
  },
  {
   "cell_type": "markdown",
   "id": "f9f5a8cf",
   "metadata": {},
   "source": [
    "## Combined Data: Using Gaussian Naive Bayes "
   ]
  },
  {
   "cell_type": "code",
   "execution_count": 141,
   "id": "2baa05c7",
   "metadata": {
    "scrolled": true
   },
   "outputs": [
    {
     "name": "stdout",
     "output_type": "stream",
     "text": [
      "GaussianNB()\n",
      "Accuracy Score:\n",
      "0.8081841432225064\n",
      "\n",
      "\n",
      "train score: 0.8454312553373186\n",
      "test score: 0.8081841432225064\n"
     ]
    }
   ],
   "source": [
    "GausNB = GaussianNB()\n",
    "GausNB.fit(X_train, y_train)\n",
    "print(GausNB)\n",
    "\n",
    "\n",
    "y_pred = GausNB.predict(X_test)\n",
    "print('Accuracy Score:')\n",
    "print(accuracy_score(y_expect, y_pred))\n",
    "print('\\n')\n",
    "print('train score:', GausNB.score(X_train, y_train))\n",
    "print('test score:', GausNB.score(X_test, y_test))"
   ]
  },
  {
   "cell_type": "code",
   "execution_count": 142,
   "id": "3da0df36",
   "metadata": {},
   "outputs": [
    {
     "name": "stdout",
     "output_type": "stream",
     "text": [
      "[[163  12]\n",
      " [ 63 153]]\n",
      "              precision    recall  f1-score   support\n",
      "\n",
      "           0       0.72      0.93      0.81       175\n",
      "           1       0.93      0.71      0.80       216\n",
      "\n",
      "    accuracy                           0.81       391\n",
      "   macro avg       0.82      0.82      0.81       391\n",
      "weighted avg       0.84      0.81      0.81       391\n",
      "\n"
     ]
    }
   ],
   "source": [
    "print(confusion_matrix(y_test, GausNB.predict(X_test)))\n",
    "print(classification_report(y_test, GausNB.predict(X_test)))"
   ]
  },
  {
   "cell_type": "markdown",
   "id": "d4cd3be0",
   "metadata": {},
   "source": [
    "## Plotting ROC AUC"
   ]
  },
  {
   "cell_type": "code",
   "execution_count": 143,
   "id": "5379aecf",
   "metadata": {
    "scrolled": true
   },
   "outputs": [
    {
     "data": {
      "image/png": "[encoded data removed]",
      "text/plain": [
       "<Figure size 432x288 with 1 Axes>"
      ]
     },
     "metadata": {
      "needs_background": "light"
     },
     "output_type": "display_data"
    }
   ],
   "source": [
    "\n",
    "plot_roc_curve(GausNB, X_test, y_test)\n",
    "plt.plot([0, 1], [0, 1],\n",
    "         label='baseline', linestyle='--')\n",
    "plt.legend();"
   ]
  },
  {
   "cell_type": "markdown",
   "id": "f3414d6f",
   "metadata": {},
   "source": [
    "**Comparison:** Illustration and matrix above shows a very contrast of what is believed to be accurate like the Bernoulli Naive Bayes model.  For the ROC AUC, it shows a score of 0.93 (93%) as the confusion matrix shows an accuracy f1-score of 0.80 (80%).  The score difference between the two can be hypothesis the same as Bernoulli's too.  \n",
    "___"
   ]
  },
  {
   "cell_type": "markdown",
   "id": "673fa9bd",
   "metadata": {},
   "source": [
    "## Combined Data: Using Multinomial Naive Bayes "
   ]
  },
  {
   "cell_type": "code",
   "execution_count": 144,
   "id": "e3c88536",
   "metadata": {},
   "outputs": [
    {
     "name": "stdout",
     "output_type": "stream",
     "text": [
      "MultinomialNB()\n",
      "Accuracy Score:\n",
      "0.959079283887468\n",
      "\n",
      "\n",
      "train score: 0.9632792485055508\n",
      "test score: 0.959079283887468\n"
     ]
    }
   ],
   "source": [
    "MultiNB = MultinomialNB()\n",
    "MultiNB.fit(X_train, y_train)\n",
    "print(MultiNB)\n",
    "\n",
    "\n",
    "y_pred = MultiNB.predict(X_test)\n",
    "print('Accuracy Score:')\n",
    "print(accuracy_score(y_expect, y_pred))\n",
    "print('\\n')\n",
    "print('train score:', MultiNB.score(X_train, y_train))\n",
    "print('test score:', MultiNB.score(X_test, y_test))"
   ]
  },
  {
   "cell_type": "code",
   "execution_count": 145,
   "id": "1dc74e99",
   "metadata": {},
   "outputs": [
    {
     "name": "stdout",
     "output_type": "stream",
     "text": [
      "[[171   4]\n",
      " [ 12 204]]\n",
      "              precision    recall  f1-score   support\n",
      "\n",
      "           0       0.93      0.98      0.96       175\n",
      "           1       0.98      0.94      0.96       216\n",
      "\n",
      "    accuracy                           0.96       391\n",
      "   macro avg       0.96      0.96      0.96       391\n",
      "weighted avg       0.96      0.96      0.96       391\n",
      "\n"
     ]
    }
   ],
   "source": [
    "print(confusion_matrix(y_test, MultiNB.predict(X_test)))\n",
    "print(classification_report(y_test, MultiNB.predict(X_test)))"
   ]
  },
  {
   "cell_type": "markdown",
   "id": "ee3aaffe",
   "metadata": {},
   "source": [
    "## Plotting ROC AUC"
   ]
  },
  {
   "cell_type": "code",
   "execution_count": 146,
   "id": "47598d2c",
   "metadata": {},
   "outputs": [
    {
     "data": {
      "image/png": "[encoded data removed]",
      "text/plain": [
       "<Figure size 432x288 with 1 Axes>"
      ]
     },
     "metadata": {
      "needs_background": "light"
     },
     "output_type": "display_data"
    }
   ],
   "source": [
    "\n",
    "plot_roc_curve(MultiNB, X_test, y_test)\n",
    "plt.plot([0, 1], [0, 1],\n",
    "         label='baseline', linestyle='--')\n",
    "plt.legend();"
   ]
  },
  {
   "cell_type": "markdown",
   "id": "229b12e5",
   "metadata": {},
   "source": [
    "**Comparison:** Illustration and matrix above shows a very strong consistency.  For the ROC AUC, it shows a score of 0.99 (99%) as the confusion matrix shows an accuracy f1-score of 0.95 (95%).  The score difference between the two so within the marginal error that can be expected. This also means that this model is the best to use for the machine to adopt on.  \n",
    "___\n",
    "After testing all three version of Naive Bayes, Multinomial had the best result with 0.9463"
   ]
  },
  {
   "cell_type": "markdown",
   "id": "05548add",
   "metadata": {},
   "source": [
    "## Optimize the Bernoulli Naive Bayes"
   ]
  },
  {
   "cell_type": "code",
   "execution_count": 147,
   "id": "6d152936",
   "metadata": {
    "scrolled": false
   },
   "outputs": [
    {
     "name": "stdout",
     "output_type": "stream",
     "text": [
      "BernoulliNB(binarize=0.1)\n",
      "0.9028132992327366\n"
     ]
    }
   ],
   "source": [
    "# Optimal results when you set binarize=0.1. This was found through trial and error.\n",
    "# Values less than or equal to 0.1 is mapped to 0, else to 1.\n",
    "# You may also consider using Hyperparameter Tuning techniques such as GridSearch to find the optimal threshold value\n",
    "BernNB = BernoulliNB(binarize=0.1)\n",
    "BernNB.fit(X_train, y_train)\n",
    "print(BernNB)\n",
    "\n",
    "y_expect = y_test\n",
    "y_pred = BernNB.predict(X_test)\n",
    "\n",
    "print(accuracy_score(y_expect, y_pred))"
   ]
  },
  {
   "cell_type": "markdown",
   "id": "c45504c2",
   "metadata": {},
   "source": [
    "**Result and compare:** Since Bernoulli Naive Bayes had the worst score compared to Gaussian and Multinomial, trying to optimize it to see if it can match up with the other two was tested.  As in result, its score improved by around 0.08.\n",
    "\n",
    "Compare to the base model which the initial score was 0.68 and 0.86 after optimization."
   ]
  },
  {
   "cell_type": "markdown",
   "id": "24740ff3",
   "metadata": {},
   "source": [
    "## Plotting ROC AUC"
   ]
  },
  {
   "cell_type": "code",
   "execution_count": 148,
   "id": "a77c8f4b",
   "metadata": {},
   "outputs": [
    {
     "data": {
      "image/png": "[encoded data removed]",
      "text/plain": [
       "<Figure size 432x288 with 1 Axes>"
      ]
     },
     "metadata": {
      "needs_background": "light"
     },
     "output_type": "display_data"
    }
   ],
   "source": [
    "\n",
    "plot_roc_curve(MultiNB, X_test, y_test)\n",
    "plt.plot([0, 1], [0, 1],\n",
    "         label='baseline', linestyle='--')\n",
    "plt.legend();"
   ]
  },
  {
   "cell_type": "markdown",
   "id": "936dfce6",
   "metadata": {},
   "source": [
    "## Method 2: Using KNN for Confusion Matrix and Classification Report"
   ]
  },
  {
   "cell_type": "code",
   "execution_count": 149,
   "id": "c9fdbb3c",
   "metadata": {},
   "outputs": [],
   "source": [
    "#impor library\n",
    "from sklearn.neighbors import KNeighborsClassifier\n",
    "from sklearn.metrics import classification_report, confusion_matrix"
   ]
  },
  {
   "cell_type": "code",
   "execution_count": 150,
   "id": "56b5575e",
   "metadata": {},
   "outputs": [],
   "source": [
    "#create instance for KNeighborsClassifier\n",
    "knn = KNeighborsClassifier(n_neighbors=1)"
   ]
  },
  {
   "cell_type": "code",
   "execution_count": 151,
   "id": "eb137891",
   "metadata": {},
   "outputs": [
    {
     "data": {
      "text/plain": [
       "KNeighborsClassifier(n_neighbors=1)"
      ]
     },
     "execution_count": 151,
     "metadata": {},
     "output_type": "execute_result"
    }
   ],
   "source": [
    "#fit the knn to both X and y trains\n",
    "knn.fit(X_train, y_train)"
   ]
  },
  {
   "cell_type": "code",
   "execution_count": 152,
   "id": "6fa4be45",
   "metadata": {},
   "outputs": [],
   "source": [
    "#set pred variable to knn.predict for X_test\n",
    "pred = knn.predict(X_test)"
   ]
  },
  {
   "cell_type": "code",
   "execution_count": 153,
   "id": "3b221314",
   "metadata": {
    "scrolled": true
   },
   "outputs": [
    {
     "name": "stdout",
     "output_type": "stream",
     "text": [
      "This is the Confusion Matrix:\n",
      "[[101  74]\n",
      " [ 23 193]]\n",
      "\n",
      "\n",
      "This is the Classification Report:\n",
      "              precision    recall  f1-score   support\n",
      "\n",
      "           0       0.81      0.58      0.68       175\n",
      "           1       0.72      0.89      0.80       216\n",
      "\n",
      "    accuracy                           0.75       391\n",
      "   macro avg       0.77      0.74      0.74       391\n",
      "weighted avg       0.76      0.75      0.74       391\n",
      "\n"
     ]
    }
   ],
   "source": [
    "#print out results for both confusion matrix and classification report\n",
    "print('This is the Confusion Matrix:')\n",
    "print(confusion_matrix(y_test, pred))\n",
    "print('\\n')\n",
    "print('This is the Classification Report:')\n",
    "print(classification_report(y_test, pred))"
   ]
  },
  {
   "cell_type": "markdown",
   "id": "ece7d19e",
   "metadata": {},
   "source": [
    "___\n",
    "The accuracy of the KNN model is not up to our standard as the it still give a 25% chance of error.  Further optimization will need to be done to see if it can improve this score.\n",
    "___"
   ]
  },
  {
   "cell_type": "markdown",
   "id": "44bc7156",
   "metadata": {},
   "source": [
    "## Using Gridsearch to find a more accurate n_neighbors number"
   ]
  },
  {
   "cell_type": "code",
   "execution_count": 154,
   "id": "fe370877",
   "metadata": {},
   "outputs": [],
   "source": [
    "# Set up experiment with taining and test data for X and Y values\n",
    "X_train2, X_test2, y_train2, y_test2 = train_test_split(X, y, random_state=0)"
   ]
  },
  {
   "cell_type": "code",
   "execution_count": 155,
   "id": "ab6ec4d2",
   "metadata": {},
   "outputs": [
    {
     "data": {
      "text/plain": [
       "KNeighborsClassifier(n_neighbors=3)"
      ]
     },
     "execution_count": 155,
     "metadata": {},
     "output_type": "execute_result"
    }
   ],
   "source": [
    "# Instantiate Basic Knn with initial k value\n",
    "knn = KNeighborsClassifier(n_neighbors = 3)\n",
    "knn.fit(X_train2, y_train2)"
   ]
  },
  {
   "cell_type": "code",
   "execution_count": 156,
   "id": "fe36468f",
   "metadata": {},
   "outputs": [
    {
     "data": {
      "text/plain": [
       "0.7672634271099744"
      ]
     },
     "execution_count": 156,
     "metadata": {},
     "output_type": "execute_result"
    }
   ],
   "source": [
    "# Evaluate and display mean accuracy of Basic Knn on test data\n",
    "knn.score(X_test2, y_test2)"
   ]
  },
  {
   "cell_type": "code",
   "execution_count": 157,
   "id": "6637c8e9",
   "metadata": {},
   "outputs": [],
   "source": [
    "# Set up Gridsearch with preferred n_neighbours range and preferred CV value\n",
    "num_range = range(1,40)\n",
    "params = {\"n_neighbors\":num_range}\n",
    "model = GridSearchCV(knn, params, cv=5)"
   ]
  },
  {
   "cell_type": "code",
   "execution_count": 158,
   "id": "b82c857b",
   "metadata": {},
   "outputs": [
    {
     "data": {
      "text/plain": [
       "{'n_neighbors': 22}"
      ]
     },
     "execution_count": 158,
     "metadata": {},
     "output_type": "execute_result"
    }
   ],
   "source": [
    "#fit model with new information\n",
    "model.fit(X_train2, y_train2)\n",
    "model.best_params_"
   ]
  },
  {
   "cell_type": "code",
   "execution_count": 159,
   "id": "4b5351fe",
   "metadata": {},
   "outputs": [
    {
     "data": {
      "text/plain": [
       "KNeighborsClassifier(n_neighbors=23)"
      ]
     },
     "execution_count": 159,
     "metadata": {},
     "output_type": "execute_result"
    }
   ],
   "source": [
    "# Knn with 5 neighbors\n",
    "gridsearch_knn = KNeighborsClassifier(n_neighbors = 23)\n",
    "gridsearch_knn.fit(X_train, y_train)"
   ]
  },
  {
   "cell_type": "code",
   "execution_count": 160,
   "id": "b08b7b25",
   "metadata": {},
   "outputs": [
    {
     "name": "stdout",
     "output_type": "stream",
     "text": [
      "[1 0 0 0 1 0 0 1 1 1 1 0 1 1 1 1 1 0 1 0 1 0 1 0 1 1 0 1 1 0 1 0 1 0 0 0 0\n",
      " 1 0 1 1 0 1 0 1 0 1 0 0 1 0 0 1 1 1 0 1 1 1 1 1 0 1 1 1 1 1 1 1 1 1 0 1 0\n",
      " 1 1 1 1 1 1 1 1 1 1 1 1 1 1 0 1 1 1 1 1 0 1 1 0 1 1 1 0 1 0 0 1 1 1 1 0 1\n",
      " 0 1 1 0 1 1 0 1 1 1 1 1 0 1 1 0 1 1 1 0 1 1 1 0 1 0 0 0 0 0 1 1 1 1 1 0 1\n",
      " 1 1 1 1 1 1 1 0 1 0 1 1 0 1 1 1 1 0 0 1 0 1 0 0 0 1 1 1 0 1 1 0 1 0 1 1 0\n",
      " 0 0 1 0 0 0 1 1 1 1 1 0 1 1 1 1 0 1 0 1 0 0 0 0 1 1 1 1 1 0 1 1 1 1 0 1 1\n",
      " 0 1 0 1 1 1 0 0 1 1 0 0 0 1 1 1 0 1 1 1 1 1 0 0 0 1 0 0 0 1 0 0 1 0 1 1 1\n",
      " 0 0 1 1 0 0 1 0 1 1 1 1 1 0 1 1 0 1 1 1 1 1 0 1 1 1 1 1 0 1 0 1 0 1 1 0 1\n",
      " 0 0 0 1 1 0 1 1 1 0 1 1 1 0 1 1 0 0 1 0 1 0 1 1 1 1 0 0 0 1 0 0 1 1 0 1 1\n",
      " 1 0 0 1 0 0 1 1 1 0 1 1 1 0 0 1 1 0 1 1 1 0 1 1 0 1 0 1 1 0 1 0 0 1 1 1 0\n",
      " 0 1 1 0 1 1 1 1 1 1 1 1 1 1 1 1 1 1 1 0 1]\n"
     ]
    }
   ],
   "source": [
    "#do a gridsearch using X_test\n",
    "gridsearch_y_pred = gridsearch_knn.predict(X_test)\n",
    "\n",
    "#showcase the predicted y through gridsearch\n",
    "print(gridsearch_y_pred)"
   ]
  },
  {
   "cell_type": "code",
   "execution_count": 161,
   "id": "f972ba23",
   "metadata": {
    "scrolled": true
   },
   "outputs": [
    {
     "name": "stdout",
     "output_type": "stream",
     "text": [
      "This is the Confusion Matrix:\n",
      "[[129  46]\n",
      " [ 10 206]]\n",
      "\n",
      "\n",
      "This is the Classification Report:\n",
      "              precision    recall  f1-score   support\n",
      "\n",
      "           0       0.93      0.74      0.82       175\n",
      "           1       0.82      0.95      0.88       216\n",
      "\n",
      "    accuracy                           0.86       391\n",
      "   macro avg       0.87      0.85      0.85       391\n",
      "weighted avg       0.87      0.86      0.85       391\n",
      "\n"
     ]
    }
   ],
   "source": [
    "#print out results for both confusion matrix and classification report\n",
    "print('This is the Confusion Matrix:')\n",
    "print(confusion_matrix(y_test, gridsearch_y_pred))\n",
    "print('\\n')\n",
    "print('This is the Classification Report:')\n",
    "print(classification_report(y_test, gridsearch_y_pred))"
   ]
  },
  {
   "cell_type": "markdown",
   "id": "efccc183",
   "metadata": {},
   "source": [
    "___\n",
    "**Result & Compare:**\n",
    "After using Gridsearch to find the most accurate n_neighbors number. (n_neighbors = 23). The new accuracy went up by 0.04 which is better compare from before but the Multinomial Naive Bayes still provided the best results compare to others. Compare to the based version which start with 0.60 then 0.69.\n",
    "___"
   ]
  },
  {
   "cell_type": "markdown",
   "id": "3653d190",
   "metadata": {},
   "source": [
    "### Cross Validation"
   ]
  },
  {
   "cell_type": "code",
   "execution_count": 162,
   "id": "9753a414",
   "metadata": {},
   "outputs": [
    {
     "data": {
      "text/plain": [
       "0.781418439716312"
      ]
     },
     "execution_count": 162,
     "metadata": {},
     "output_type": "execute_result"
    }
   ],
   "source": [
    "#import library\n",
    "from sklearn.model_selection import cross_val_score\n",
    "\n",
    "#find mean for cross validation\n",
    "cross_val_score(knn, X_train, y_train, cv=5).mean()"
   ]
  },
  {
   "cell_type": "code",
   "execution_count": 163,
   "id": "b7be9909",
   "metadata": {},
   "outputs": [
    {
     "data": {
      "text/plain": [
       "0.9342442356959864"
      ]
     },
     "execution_count": 163,
     "metadata": {},
     "output_type": "execute_result"
    }
   ],
   "source": [
    "#fit KNN\n",
    "knn.fit(X_train, y_train)\n",
    "\n",
    "#find score for KNN for train\n",
    "knn.score(X_train, y_train)"
   ]
  },
  {
   "cell_type": "code",
   "execution_count": 164,
   "id": "91c5d9f6",
   "metadata": {},
   "outputs": [
    {
     "data": {
      "text/plain": [
       "0.8107416879795396"
      ]
     },
     "execution_count": 164,
     "metadata": {},
     "output_type": "execute_result"
    }
   ],
   "source": [
    "#find score for KNN for test\n",
    "knn.score(X_test, y_test)"
   ]
  },
  {
   "cell_type": "code",
   "execution_count": 165,
   "id": "7e5d3a8b",
   "metadata": {},
   "outputs": [
    {
     "name": "stdout",
     "output_type": "stream",
     "text": [
      "[[117  58]\n",
      " [ 16 200]]\n",
      "              precision    recall  f1-score   support\n",
      "\n",
      "           0       0.88      0.67      0.76       175\n",
      "           1       0.78      0.93      0.84       216\n",
      "\n",
      "    accuracy                           0.81       391\n",
      "   macro avg       0.83      0.80      0.80       391\n",
      "weighted avg       0.82      0.81      0.81       391\n",
      "\n"
     ]
    }
   ],
   "source": [
    "print(confusion_matrix(y_test, knn.predict(X_test)))\n",
    "print(classification_report(y_test, knn.predict(X_test)))"
   ]
  },
  {
   "cell_type": "markdown",
   "id": "b0e23a51",
   "metadata": {},
   "source": [
    "## Plotting ROC AUC"
   ]
  },
  {
   "cell_type": "code",
   "execution_count": 166,
   "id": "7e155c56",
   "metadata": {},
   "outputs": [
    {
     "data": {
      "image/png": "[encoded data removed]",
      "text/plain": [
       "<Figure size 432x288 with 1 Axes>"
      ]
     },
     "metadata": {
      "needs_background": "light"
     },
     "output_type": "display_data"
    }
   ],
   "source": [
    "plot_roc_curve(knn, X_test, y_test)\n",
    "plt.plot([0, 1], [0, 1],\n",
    "         label='baseline', linestyle='--')\n",
    "plt.legend();"
   ]
  },
  {
   "cell_type": "markdown",
   "id": "8ced3039",
   "metadata": {},
   "source": [
    "We have a ROC AUC of 0.88, thus this indicates to us that KNN model is close to being perfectly separated. This indicates that KNN model also has a high level of accuracy in prediction results for our model.\n",
    "\n",
    "In our confusion matrix, KNN model performs not as well, with precision, recall and f1-scores ranging from 0.81. The train and test scores have a high contrast of scoring between the two. This indicates that there are probably quite a bit of outfitters that are skewing the result.\n",
    "\n",
    "Compare to the base model from Step 4.1, there is still a significant increase in score value which tell us that by removing additional unnecessary words will increase the score which also increase the efficiency for the machine to learn and adopt to.  "
   ]
  }
 ],
 "metadata": {
  "kernelspec": {
   "display_name": "Python 3",
   "language": "python",
   "name": "python3"
  },
  "language_info": {
   "codemirror_mode": {
    "name": "ipython",
    "version": 3
   },
   "file_extension": ".py",
   "mimetype": "text/x-python",
   "name": "python",
   "nbconvert_exporter": "python",
   "pygments_lexer": "ipython3",
   "version": "3.8.8"
  }
 },
 "nbformat": 4,
 "nbformat_minor": 5
}
